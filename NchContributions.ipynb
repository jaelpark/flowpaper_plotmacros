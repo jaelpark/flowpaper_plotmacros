import matplotlib.pyplot as plt
import numpy as np

#plt.style.use('_mpl-gallery')

# make data
import numpy as np
from matplotlib import pyplot as plt

plt.rcParams["figure.figsize"] = [5.0, 4.0]
plt.rcParams["figure.autolayout"] = True

def f_bulk(x):
   return 0.006*x + 0.2

def f_jet(x):
   return 0.8-0.006*x

x = np.linspace(0, 100, 100)

plt.plot(x, f_bulk(x), color='red', label="bulk")
plt.plot(x, f_jet(x), color='blue', label="jet")
plt.plot(x, f_jet(x)+f_bulk(x), color='black', label="sum")
plt.plot(x, f_jet(x)/f_bulk(x), color='green', label="jet/bulk")

# naming the x axis
plt.xlabel('$N_{ch}$')
# naming the y axis
plt.ylabel('Relative contributions')
plt.legend(loc='upper right')
# giving a title to my graph
plt.title('illustration of $N_{ch}$ sources')
plt.savefig("nch_smallsystem.pdf")

plt.show()
